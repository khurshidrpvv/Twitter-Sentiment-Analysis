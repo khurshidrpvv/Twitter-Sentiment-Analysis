{
 "cells": [
  {
   "cell_type": "code",
   "execution_count": 1,
   "metadata": {
    "collapsed": true
   },
   "outputs": [],
   "source": [
    "import jsonpickle"
   ]
  },
  {
   "cell_type": "code",
   "execution_count": 2,
   "metadata": {
    "collapsed": true
   },
   "outputs": [],
   "source": [
    "# Converting JSON data to python list\n",
    "tweets = []\n",
    "with open(\"surgicalStrike.txt\") as f:\n",
    "    for line in f:\n",
    "        tweets.append(jsonpickle.decode(line))"
   ]
  },
  {
   "cell_type": "code",
   "execution_count": 3,
   "metadata": {
    "collapsed": false
   },
   "outputs": [
    {
     "name": "stdout",
     "output_type": "stream",
     "text": [
      "{'metadata': {'result_type': 'recent', 'iso_language_code': 'en'}, 'geo': None, 'coordinates': None, 'in_reply_to_status_id_str': None, 'truncated': False, 'created_at': 'Thu Oct 06 18:10:41 +0000 2016', 'in_reply_to_user_id': None, 'id': 784093534957760513, 'lang': 'en', 'user': {'time_zone': None, 'utc_offset': None, 'favourites_count': 3855, 'profile_background_image_url_https': 'https://abs.twimg.com/images/themes/theme1/bg.png', 'profile_link_color': '0084B4', 'profile_background_color': 'C0DEED', 'location': 'Searching.........On Earth', 'created_at': 'Mon Nov 09 18:04:33 +0000 2015', 'profile_banner_url': 'https://pbs.twimg.com/profile_banners/4181794213/1475561812', 'verified': False, 'has_extended_profile': True, 'follow_request_sent': None, 'lang': 'en', 'screen_name': 'PuneetM00219042', 'profile_image_url_https': 'https://pbs.twimg.com/profile_images/784097391913922564/F-S1RE4-_normal.jpg', 'profile_background_tile': False, 'is_translator': False, 'id': 4181794213, 'contributors_enabled': False, 'profile_sidebar_border_color': 'C0DEED', 'default_profile': True, 'is_translation_enabled': False, 'friends_count': 2985, 'profile_image_url': 'http://pbs.twimg.com/profile_images/784097391913922564/F-S1RE4-_normal.jpg', 'name': 'PÙÑÈÈT MÌSHRÀ 🅿🌐', 'followers_count': 2646, 'following': None, 'profile_background_image_url': 'http://abs.twimg.com/images/themes/theme1/bg.png', 'listed_count': 4, 'protected': False, 'notifications': None, 'entities': {'url': {'urls': [{'indices': [0, 23], 'display_url': 'instagram.com/pmishra.pm40', 'expanded_url': 'http://instagram.com/pmishra.pm40', 'url': 'https://t.co/VinQ288t0H'}]}, 'description': {'urls': []}}, 'default_profile_image': False, 'profile_use_background_image': True, 'id_str': '4181794213', 'description': '।। #FANATICAL_HINDU ।। #ANTITERRORISM ।।\\n|| BIGGEST FAN OF #VIRAT_KOHLI ||\\r\\n|| #KEEP_FOLLOWING_ME_I_WILL_FOLLOW_YOU_BACK ||🙏✌🙅👍🙋💪', 'profile_sidebar_fill_color': 'DDEEF6', 'statuses_count': 506, 'geo_enabled': False, 'url': 'https://t.co/VinQ288t0H', 'profile_text_color': '333333'}, 'is_quote_status': False, 'place': None, 'text': 'RT @mayursejpal: WHO IS MORE DANGEROUS FOR INDIA? \\n\\nNeed 1cr Votes... RT pls...\\n\\n#PakStandsWithKejriwal #SurgicalSelfGoal', 'retweeted_status': {'metadata': {'result_type': 'recent', 'iso_language_code': 'en'}, 'geo': None, 'coordinates': None, 'in_reply_to_status_id_str': None, 'truncated': False, 'created_at': 'Thu Oct 06 16:15:07 +0000 2016', 'in_reply_to_user_id': None, 'id': 784064454648410114, 'lang': 'en', 'user': {'time_zone': 'Mumbai', 'utc_offset': 19800, 'favourites_count': 7003, 'profile_background_image_url_https': 'https://pbs.twimg.com/profile_background_images/470080872083755009/x5rjJij_.jpeg', 'profile_link_color': 'A16A23', 'profile_background_color': '510800', 'location': 'Mumbai, India', 'created_at': 'Sun Nov 08 07:28:38 +0000 2009', 'profile_banner_url': 'https://pbs.twimg.com/profile_banners/88373062/1471937630', 'verified': False, 'has_extended_profile': True, 'follow_request_sent': None, 'lang': 'en', 'screen_name': 'mayursejpal', 'profile_image_url_https': 'https://pbs.twimg.com/profile_images/723121794073264128/yEK29NbU_normal.jpg', 'profile_background_tile': True, 'is_translator': False, 'id': 88373062, 'contributors_enabled': False, 'profile_sidebar_border_color': '3D0702', 'default_profile': False, 'is_translation_enabled': False, 'friends_count': 800, 'profile_image_url': 'http://pbs.twimg.com/profile_images/723121794073264128/yEK29NbU_normal.jpg', 'name': 'Mayur Sejpal', 'followers_count': 3553, 'following': None, 'profile_background_image_url': 'http://pbs.twimg.com/profile_background_images/470080872083755009/x5rjJij_.jpeg', 'listed_count': 7, 'protected': False, 'notifications': None, 'entities': {'url': {'urls': [{'indices': [0, 23], 'display_url': 'm.facebook.com/Mayur-Sejpal-1…', 'expanded_url': 'https://m.facebook.com/Mayur-Sejpal-168808620149838/', 'url': 'https://t.co/CPhIr1T8Fq'}]}, 'description': {'urls': []}}, 'default_profile_image': False, 'profile_use_background_image': False, 'id_str': '88373062', 'description': 'Indian | Nationalist | @SrBachchan and @narendramodi is my Idol | Innovative | Indian Army Fan | Successful | Political Follower | Real Estate | Social Activist', 'profile_sidebar_fill_color': '2C1703', 'statuses_count': 12944, 'geo_enabled': False, 'url': 'https://t.co/CPhIr1T8Fq', 'profile_text_color': 'E0912A'}, 'is_quote_status': False, 'place': None, 'text': 'WHO IS MORE DANGEROUS FOR INDIA? \\n\\nNeed 1cr Votes... RT pls...\\n\\n#PakStandsWithKejriwal #SurgicalSelfGoal', 'entities': {'urls': [], 'hashtags': [{'text': 'PakStandsWithKejriwal', 'indices': [64, 86]}, {'text': 'SurgicalSelfGoal', 'indices': [87, 104]}], 'user_mentions': [], 'symbols': []}, 'in_reply_to_screen_name': None, 'favorited': False, 'retweet_count': 38, 'favorite_count': 33, 'retweeted': False, 'contributors': None, 'id_str': '784064454648410114', 'source': '<a href=\"http://twitter.com/download/android\" rel=\"nofollow\">Twitter for Android</a>', 'in_reply_to_user_id_str': None, 'in_reply_to_status_id': None}, 'in_reply_to_screen_name': None, 'favorited': False, 'retweet_count': 38, 'favorite_count': 0, 'retweeted': False, 'contributors': None, 'id_str': '784093534957760513', 'source': '<a href=\"http://twitter.com/download/android\" rel=\"nofollow\">Twitter for Android</a>', 'entities': {'urls': [], 'hashtags': [{'text': 'PakStandsWithKejriwal', 'indices': [81, 103]}, {'text': 'SurgicalSelfGoal', 'indices': [104, 121]}], 'user_mentions': [{'screen_name': 'mayursejpal', 'id': 88373062, 'indices': [3, 15], 'name': 'Mayur Sejpal', 'id_str': '88373062'}], 'symbols': []}, 'in_reply_to_user_id_str': None, 'in_reply_to_status_id': None}\n"
     ]
    }
   ],
   "source": [
    "# Looking at our data\n",
    "print(tweets[0])"
   ]
  },
  {
   "cell_type": "code",
   "execution_count": 4,
   "metadata": {
    "collapsed": false
   },
   "outputs": [
    {
     "name": "stdout",
     "output_type": "stream",
     "text": [
      "dict_keys(['metadata', 'geo', 'coordinates', 'in_reply_to_status_id_str', 'truncated', 'created_at', 'in_reply_to_user_id', 'id', 'lang', 'user', 'is_quote_status', 'place', 'text', 'retweeted_status', 'in_reply_to_screen_name', 'favorited', 'retweet_count', 'favorite_count', 'retweeted', 'contributors', 'id_str', 'source', 'entities', 'in_reply_to_user_id_str', 'in_reply_to_status_id'])\n"
     ]
    }
   ],
   "source": [
    "# Data given by twitter for each tweet i.e dictionary keys\n",
    "print(tweets[0].keys())"
   ]
  },
  {
   "cell_type": "code",
   "execution_count": 5,
   "metadata": {
    "collapsed": true
   },
   "outputs": [],
   "source": [
    "# Source key is used to store the info about the type of device through which tweet is tweeted\n",
    "fName = \"Source.txt\"\n",
    "with open(fName, 'a', encoding='utf-8') as f:\n",
    "    for i in range(len(tweets)):\n",
    "        f.write(tweets[i]['source'] + '\\n')"
   ]
  },
  {
   "cell_type": "code",
   "execution_count": 6,
   "metadata": {
    "collapsed": true
   },
   "outputs": [],
   "source": [
    "# Text has the actual tweets\n",
    "fName = \"text.txt\"\n",
    "with open(fName, 'a', encoding='utf-8') as f:\n",
    "    for i in range(len(tweets)):\n",
    "        f.write(tweets[i]['text'] + '\\n')"
   ]
  },
  {
   "cell_type": "code",
   "execution_count": 7,
   "metadata": {
    "collapsed": true
   },
   "outputs": [],
   "source": [
    "fName = \"place.txt\"\n",
    "newLine = \"\\n\"\n",
    "with open(fName, 'a', encoding='utf-8') as f:\n",
    "    for i in range(len(tweets)):\n",
    "        f.write('{}'.format(tweets[i]['place']) +'\\n')"
   ]
  },
  {
   "cell_type": "code",
   "execution_count": 8,
   "metadata": {
    "collapsed": true
   },
   "outputs": [],
   "source": [
    "fName = \"geo.txt\"\n",
    "newLine = \"\\n\"\n",
    "with open(fName, 'a', encoding='utf-8') as f:\n",
    "    for i in range(len(tweets)):\n",
    "        f.write('{}'.format(tweets[i]['geo']) +'\\n')"
   ]
  },
  {
   "cell_type": "code",
   "execution_count": 9,
   "metadata": {
    "collapsed": true
   },
   "outputs": [],
   "source": [
    "\n",
    "fName = \"coordinates.txt\"\n",
    "newLine = \"\\n\"\n",
    "with open(fName, 'a', encoding='utf-8') as f:\n",
    "    for i in range(len(tweets)):\n",
    "        f.write('{}'.format(tweets[i]['coordinates']) +'\\n')"
   ]
  },
  {
   "cell_type": "code",
   "execution_count": null,
   "metadata": {
    "collapsed": true
   },
   "outputs": [],
   "source": [
    "\n",
    "fName = \"Created_at.txt\"\n",
    "newLine = \"\\n\"\n",
    "with open(fName, 'a', encoding='utf-8') as f:\n",
    "    for i in range(len(tweets)):\n",
    "        f.write('{}'.format(tweets[i]['created_at']) +'\\n')"
   ]
  },
  {
   "cell_type": "markdown",
   "metadata": {
    "collapsed": true
   },
   "source": [
    "# Above codes are not optimal.since we need to iterate over entire tweets several times for extracting different attributes.I know this can be done in one iteration but presently I don't know how.I am a noob"
   ]
  }
 ],
 "metadata": {
  "kernelspec": {
   "display_name": "Python 3",
   "language": "python",
   "name": "python3"
  },
  "language_info": {
   "codemirror_mode": {
    "name": "ipython",
    "version": 3
   },
   "file_extension": ".py",
   "mimetype": "text/x-python",
   "name": "python",
   "nbconvert_exporter": "python",
   "pygments_lexer": "ipython3",
   "version": "3.5.1"
  }
 },
 "nbformat": 4,
 "nbformat_minor": 0
}
